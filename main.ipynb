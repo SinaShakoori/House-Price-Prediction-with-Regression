{
 "cells": [
  {
   "cell_type": "markdown",
   "id": "05d307de",
   "metadata": {},
   "source": [
    "dataset = https://www.kaggle.com/datasets/altavish/boston-housing-dataset"
   ]
  },
  {
   "cell_type": "code",
   "execution_count": 156,
   "id": "d9255700",
   "metadata": {},
   "outputs": [],
   "source": [
    "import pandas as pd"
   ]
  },
  {
   "cell_type": "code",
   "execution_count": 157,
   "id": "cd4d789d",
   "metadata": {},
   "outputs": [
    {
     "data": {
      "text/html": [
       "<div>\n",
       "<style scoped>\n",
       "    .dataframe tbody tr th:only-of-type {\n",
       "        vertical-align: middle;\n",
       "    }\n",
       "\n",
       "    .dataframe tbody tr th {\n",
       "        vertical-align: top;\n",
       "    }\n",
       "\n",
       "    .dataframe thead th {\n",
       "        text-align: right;\n",
       "    }\n",
       "</style>\n",
       "<table border=\"1\" class=\"dataframe\">\n",
       "  <thead>\n",
       "    <tr style=\"text-align: right;\">\n",
       "      <th></th>\n",
       "      <th>CRIM</th>\n",
       "      <th>ZN</th>\n",
       "      <th>INDUS</th>\n",
       "      <th>CHAS</th>\n",
       "      <th>NOX</th>\n",
       "      <th>RM</th>\n",
       "      <th>AGE</th>\n",
       "      <th>DIS</th>\n",
       "      <th>RAD</th>\n",
       "      <th>TAX</th>\n",
       "      <th>PTRATIO</th>\n",
       "      <th>B</th>\n",
       "      <th>LSTAT</th>\n",
       "      <th>MEDV</th>\n",
       "    </tr>\n",
       "  </thead>\n",
       "  <tbody>\n",
       "    <tr>\n",
       "      <th>0</th>\n",
       "      <td>0.00632</td>\n",
       "      <td>18.0</td>\n",
       "      <td>2.31</td>\n",
       "      <td>0.0</td>\n",
       "      <td>0.538</td>\n",
       "      <td>6.575</td>\n",
       "      <td>65.2</td>\n",
       "      <td>4.0900</td>\n",
       "      <td>1</td>\n",
       "      <td>296</td>\n",
       "      <td>15.3</td>\n",
       "      <td>396.90</td>\n",
       "      <td>4.98</td>\n",
       "      <td>24.0</td>\n",
       "    </tr>\n",
       "    <tr>\n",
       "      <th>1</th>\n",
       "      <td>0.02731</td>\n",
       "      <td>0.0</td>\n",
       "      <td>7.07</td>\n",
       "      <td>0.0</td>\n",
       "      <td>0.469</td>\n",
       "      <td>6.421</td>\n",
       "      <td>78.9</td>\n",
       "      <td>4.9671</td>\n",
       "      <td>2</td>\n",
       "      <td>242</td>\n",
       "      <td>17.8</td>\n",
       "      <td>396.90</td>\n",
       "      <td>9.14</td>\n",
       "      <td>21.6</td>\n",
       "    </tr>\n",
       "    <tr>\n",
       "      <th>2</th>\n",
       "      <td>0.02729</td>\n",
       "      <td>0.0</td>\n",
       "      <td>7.07</td>\n",
       "      <td>0.0</td>\n",
       "      <td>0.469</td>\n",
       "      <td>7.185</td>\n",
       "      <td>61.1</td>\n",
       "      <td>4.9671</td>\n",
       "      <td>2</td>\n",
       "      <td>242</td>\n",
       "      <td>17.8</td>\n",
       "      <td>392.83</td>\n",
       "      <td>4.03</td>\n",
       "      <td>34.7</td>\n",
       "    </tr>\n",
       "    <tr>\n",
       "      <th>3</th>\n",
       "      <td>0.03237</td>\n",
       "      <td>0.0</td>\n",
       "      <td>2.18</td>\n",
       "      <td>0.0</td>\n",
       "      <td>0.458</td>\n",
       "      <td>6.998</td>\n",
       "      <td>45.8</td>\n",
       "      <td>6.0622</td>\n",
       "      <td>3</td>\n",
       "      <td>222</td>\n",
       "      <td>18.7</td>\n",
       "      <td>394.63</td>\n",
       "      <td>2.94</td>\n",
       "      <td>33.4</td>\n",
       "    </tr>\n",
       "    <tr>\n",
       "      <th>4</th>\n",
       "      <td>0.06905</td>\n",
       "      <td>0.0</td>\n",
       "      <td>2.18</td>\n",
       "      <td>0.0</td>\n",
       "      <td>0.458</td>\n",
       "      <td>7.147</td>\n",
       "      <td>54.2</td>\n",
       "      <td>6.0622</td>\n",
       "      <td>3</td>\n",
       "      <td>222</td>\n",
       "      <td>18.7</td>\n",
       "      <td>396.90</td>\n",
       "      <td>NaN</td>\n",
       "      <td>36.2</td>\n",
       "    </tr>\n",
       "  </tbody>\n",
       "</table>\n",
       "</div>"
      ],
      "text/plain": [
       "      CRIM    ZN  INDUS  CHAS    NOX     RM   AGE     DIS  RAD  TAX  PTRATIO  \\\n",
       "0  0.00632  18.0   2.31   0.0  0.538  6.575  65.2  4.0900    1  296     15.3   \n",
       "1  0.02731   0.0   7.07   0.0  0.469  6.421  78.9  4.9671    2  242     17.8   \n",
       "2  0.02729   0.0   7.07   0.0  0.469  7.185  61.1  4.9671    2  242     17.8   \n",
       "3  0.03237   0.0   2.18   0.0  0.458  6.998  45.8  6.0622    3  222     18.7   \n",
       "4  0.06905   0.0   2.18   0.0  0.458  7.147  54.2  6.0622    3  222     18.7   \n",
       "\n",
       "        B  LSTAT  MEDV  \n",
       "0  396.90   4.98  24.0  \n",
       "1  396.90   9.14  21.6  \n",
       "2  392.83   4.03  34.7  \n",
       "3  394.63   2.94  33.4  \n",
       "4  396.90    NaN  36.2  "
      ]
     },
     "execution_count": 157,
     "metadata": {},
     "output_type": "execute_result"
    }
   ],
   "source": [
    "dataset = pd.read_csv(\"HousingData.csv\")\n",
    "dataset.head()"
   ]
  },
  {
   "cell_type": "code",
   "execution_count": 158,
   "id": "a321a0b4",
   "metadata": {},
   "outputs": [
    {
     "name": "stdout",
     "output_type": "stream",
     "text": [
      "<class 'pandas.core.frame.DataFrame'>\n",
      "RangeIndex: 506 entries, 0 to 505\n",
      "Data columns (total 14 columns):\n",
      " #   Column   Non-Null Count  Dtype  \n",
      "---  ------   --------------  -----  \n",
      " 0   CRIM     486 non-null    float64\n",
      " 1   ZN       486 non-null    float64\n",
      " 2   INDUS    486 non-null    float64\n",
      " 3   CHAS     486 non-null    float64\n",
      " 4   NOX      506 non-null    float64\n",
      " 5   RM       506 non-null    float64\n",
      " 6   AGE      486 non-null    float64\n",
      " 7   DIS      506 non-null    float64\n",
      " 8   RAD      506 non-null    int64  \n",
      " 9   TAX      506 non-null    int64  \n",
      " 10  PTRATIO  506 non-null    float64\n",
      " 11  B        506 non-null    float64\n",
      " 12  LSTAT    486 non-null    float64\n",
      " 13  MEDV     506 non-null    float64\n",
      "dtypes: float64(12), int64(2)\n",
      "memory usage: 55.5 KB\n"
     ]
    }
   ],
   "source": [
    "dataset.info()"
   ]
  },
  {
   "cell_type": "code",
   "execution_count": 159,
   "id": "edb96a93",
   "metadata": {},
   "outputs": [
    {
     "data": {
      "text/plain": [
       "(506, 14)"
      ]
     },
     "execution_count": 159,
     "metadata": {},
     "output_type": "execute_result"
    }
   ],
   "source": [
    "dataset.shape"
   ]
  },
  {
   "cell_type": "code",
   "execution_count": 160,
   "id": "36d4432e",
   "metadata": {},
   "outputs": [
    {
     "data": {
      "text/plain": [
       "CRIM       20\n",
       "ZN         20\n",
       "INDUS      20\n",
       "CHAS       20\n",
       "NOX         0\n",
       "RM          0\n",
       "AGE        20\n",
       "DIS         0\n",
       "RAD         0\n",
       "TAX         0\n",
       "PTRATIO     0\n",
       "B           0\n",
       "LSTAT      20\n",
       "MEDV        0\n",
       "dtype: int64"
      ]
     },
     "execution_count": 160,
     "metadata": {},
     "output_type": "execute_result"
    }
   ],
   "source": [
    "dataset.isnull().sum()"
   ]
  },
  {
   "cell_type": "code",
   "execution_count": 161,
   "id": "594c2d66",
   "metadata": {},
   "outputs": [],
   "source": [
    "dataset = dataset.dropna()"
   ]
  },
  {
   "cell_type": "code",
   "execution_count": 162,
   "id": "cadb4d2d",
   "metadata": {},
   "outputs": [
    {
     "data": {
      "text/plain": [
       "CRIM       0\n",
       "ZN         0\n",
       "INDUS      0\n",
       "CHAS       0\n",
       "NOX        0\n",
       "RM         0\n",
       "AGE        0\n",
       "DIS        0\n",
       "RAD        0\n",
       "TAX        0\n",
       "PTRATIO    0\n",
       "B          0\n",
       "LSTAT      0\n",
       "MEDV       0\n",
       "dtype: int64"
      ]
     },
     "execution_count": 162,
     "metadata": {},
     "output_type": "execute_result"
    }
   ],
   "source": [
    "dataset.isnull().sum()"
   ]
  },
  {
   "cell_type": "code",
   "execution_count": 163,
   "id": "1da94d42",
   "metadata": {},
   "outputs": [],
   "source": [
    "X = dataset.drop('MEDV', axis=1)\n",
    "y = dataset['MEDV']"
   ]
  },
  {
   "cell_type": "code",
   "execution_count": 164,
   "id": "fd4e0703",
   "metadata": {},
   "outputs": [],
   "source": [
    "from sklearn.model_selection import train_test_split"
   ]
  },
  {
   "cell_type": "code",
   "execution_count": 165,
   "id": "af925123",
   "metadata": {},
   "outputs": [],
   "source": [
    "X_train, X_test, y_train, y_test = train_test_split(X, y, test_size=0.2, random_state=42)"
   ]
  },
  {
   "cell_type": "code",
   "execution_count": 166,
   "id": "457204b2",
   "metadata": {},
   "outputs": [],
   "source": [
    "from sklearn.preprocessing import StandardScaler, PolynomialFeatures"
   ]
  },
  {
   "cell_type": "code",
   "execution_count": 167,
   "id": "e7c17b10",
   "metadata": {},
   "outputs": [],
   "source": [
    "scaler = StandardScaler()\n",
    "X_train_scaled = scaler.fit_transform(X_train)\n",
    "X_test_scaled = scaler.transform(X_test)"
   ]
  },
  {
   "cell_type": "code",
   "execution_count": 168,
   "id": "e39a1202",
   "metadata": {},
   "outputs": [],
   "source": [
    "poly = PolynomialFeatures(degree=2, include_bias=False)\n",
    "X_train_poly = poly.fit_transform(X_train_scaled)\n",
    "X_test_poly = poly.transform(X_test_scaled)"
   ]
  },
  {
   "cell_type": "markdown",
   "id": "52c95dd2",
   "metadata": {},
   "source": [
    " Linear Regression"
   ]
  },
  {
   "cell_type": "code",
   "execution_count": 169,
   "id": "5927ae67",
   "metadata": {},
   "outputs": [],
   "source": [
    "from sklearn.linear_model import LinearRegression\n",
    "import numpy as np\n",
    "from sklearn.model_selection import  cross_val_score\n",
    "from sklearn.metrics import mean_squared_error, r2_score"
   ]
  },
  {
   "cell_type": "code",
   "execution_count": 170,
   "id": "f0ea41a1",
   "metadata": {},
   "outputs": [],
   "source": [
    "lin_reg = LinearRegression()\n",
    "lin_reg.fit(X_train_scaled, y_train)\n",
    "\n",
    "\n",
    "y_pred_lin = lin_reg.predict(X_test_scaled)"
   ]
  },
  {
   "cell_type": "code",
   "execution_count": 171,
   "id": "2194f873",
   "metadata": {},
   "outputs": [
    {
     "name": "stdout",
     "output_type": "stream",
     "text": [
      "MSE: 31.454047664950842\n",
      "RMSE: 5.608390826694484\n",
      "R2 Score: 0.6270849941673194\n"
     ]
    }
   ],
   "source": [
    "mse_lin = mean_squared_error(y_test, y_pred_lin)\n",
    "rmse_lin = np.sqrt(mse_lin)\n",
    "r2_lin = r2_score(y_test, y_pred_lin)\n",
    "\n",
    "print(f\"MSE: {mse_lin}\")\n",
    "print(f\"RMSE: {rmse_lin}\")\n",
    "print(f\"R2 Score: {r2_lin}\")\n"
   ]
  },
  {
   "cell_type": "code",
   "execution_count": 172,
   "id": "65b78624",
   "metadata": {},
   "outputs": [
    {
     "name": "stdout",
     "output_type": "stream",
     "text": [
      "CV RMSE: 4.448855817961235 +- 0.3162816922808771\n"
     ]
    }
   ],
   "source": [
    "cv_scores_lin = cross_val_score(lin_reg, X_train_scaled, y_train, cv=5, scoring='neg_mean_squared_error')\n",
    "rmse_cv_lin = np.sqrt(-cv_scores_lin)\n",
    "print(f\"CV RMSE: {rmse_cv_lin.mean()} +- {rmse_cv_lin.std()}\")"
   ]
  },
  {
   "cell_type": "markdown",
   "id": "a33cf41e",
   "metadata": {},
   "source": [
    " Ridge Regression"
   ]
  },
  {
   "cell_type": "code",
   "execution_count": 173,
   "id": "9a6b8524",
   "metadata": {},
   "outputs": [],
   "source": [
    "from sklearn.linear_model import Ridge"
   ]
  },
  {
   "cell_type": "code",
   "execution_count": 174,
   "id": "f2e510ac",
   "metadata": {},
   "outputs": [],
   "source": [
    "ridge_reg = Ridge(alpha=0.10)\n",
    "ridge_reg.fit(X_train_poly, y_train)\n",
    "y_pred_ridge = ridge_reg.predict(X_test_poly)"
   ]
  },
  {
   "cell_type": "code",
   "execution_count": 175,
   "id": "80ffd034",
   "metadata": {},
   "outputs": [
    {
     "name": "stdout",
     "output_type": "stream",
     "text": [
      "MSE: 19.293547156861685\n",
      "RMSE: 4.392442049345863\n",
      "R2 Score: 0.7712582708853915\n"
     ]
    }
   ],
   "source": [
    "mse_ridge = mean_squared_error(y_test, y_pred_ridge)\n",
    "rmse_ridge = np.sqrt(mse_ridge)\n",
    "r2_ridge = r2_score(y_test, y_pred_ridge)\n",
    "\n",
    "print(f\"MSE: {mse_ridge}\")\n",
    "print(f\"RMSE: {rmse_ridge}\")\n",
    "print(f\"R2 Score: {r2_ridge}\")"
   ]
  },
  {
   "cell_type": "markdown",
   "id": "fb6c2384",
   "metadata": {},
   "source": [
    "Lasso Regression"
   ]
  },
  {
   "cell_type": "code",
   "execution_count": 176,
   "id": "c76838c8",
   "metadata": {},
   "outputs": [],
   "source": [
    "from sklearn.linear_model import Lasso"
   ]
  },
  {
   "cell_type": "code",
   "execution_count": 177,
   "id": "721eb431",
   "metadata": {},
   "outputs": [],
   "source": [
    "lasso_reg = Lasso(alpha=0.1)\n",
    "lasso_reg.fit(X_train_poly, y_train)\n",
    "y_pred_lasso = lasso_reg.predict(X_test_poly)"
   ]
  },
  {
   "cell_type": "code",
   "execution_count": 178,
   "id": "76a404af",
   "metadata": {},
   "outputs": [
    {
     "name": "stdout",
     "output_type": "stream",
     "text": [
      "MSE: 22.477247875958493\n",
      "RMSE: 4.741017599203624\n",
      "R2 Score: 0.7335127385813107\n"
     ]
    }
   ],
   "source": [
    "mse_lasso = mean_squared_error(y_test, y_pred_lasso)\n",
    "rmse_lasso = np.sqrt(mse_lasso)\n",
    "r2_lasso = r2_score(y_test, y_pred_lasso)\n",
    "\n",
    "print(f\"MSE: {mse_lasso}\")\n",
    "print(f\"RMSE: {rmse_lasso}\")\n",
    "print(f\"R2 Score: {r2_lasso}\")"
   ]
  },
  {
   "cell_type": "markdown",
   "id": "f993183d",
   "metadata": {},
   "source": [
    " Elastic Net Regression"
   ]
  },
  {
   "cell_type": "code",
   "execution_count": 179,
   "id": "cb3898f3",
   "metadata": {},
   "outputs": [],
   "source": [
    "from sklearn.linear_model import ElasticNet"
   ]
  },
  {
   "cell_type": "code",
   "execution_count": 180,
   "id": "1c65f6cc",
   "metadata": {},
   "outputs": [],
   "source": [
    "elastic_net = ElasticNet(alpha=0.1, l1_ratio=0.5)\n",
    "elastic_net.fit(X_train_poly, y_train)\n",
    "y_pred_en = elastic_net.predict(X_test_poly)"
   ]
  },
  {
   "cell_type": "code",
   "execution_count": 181,
   "id": "d929d345",
   "metadata": {},
   "outputs": [
    {
     "name": "stdout",
     "output_type": "stream",
     "text": [
      "MSE: 22.37611838042753\n",
      "RMSE: 4.730340197113473\n",
      "R2 Score: 0.7347117164304418\n"
     ]
    }
   ],
   "source": [
    "mse_en = mean_squared_error(y_test, y_pred_en)\n",
    "rmse_en = np.sqrt(mse_en)\n",
    "r2_en = r2_score(y_test, y_pred_en)\n",
    "\n",
    "print(f\"MSE: {mse_en}\")\n",
    "print(f\"RMSE: {rmse_en}\")\n",
    "print(f\"R2 Score: {r2_en}\")"
   ]
  },
  {
   "cell_type": "markdown",
   "id": "62e38407",
   "metadata": {},
   "source": [
    "Test real data"
   ]
  },
  {
   "cell_type": "code",
   "execution_count": null,
   "id": "1c55390b",
   "metadata": {},
   "outputs": [],
   "source": [
    "sample_house = {\n",
    "    'CRIM': 0.1,\n",
    "    'ZN': 12.5,\n",
    "    'INDUS': 7.5,\n",
    "    'CHAS': 0.0,\n",
    "    'NOX': 0.5,\n",
    "    'RM': 6.3,\n",
    "    'AGE': 45.0,\n",
    "    'DIS': 5.0,\n",
    "    'RAD': 4,\n",
    "    'TAX': 300,\n",
    "    'PTRATIO': 16.0,\n",
    "    'B': 390.0,\n",
    "    'LSTAT': 12.0\n",
    "}\n",
    "\n",
    "sample_df = pd.DataFrame([sample_house])\n",
    "\n",
    "\n",
    "\n",
    "sample_scaled = scaler.transform(sample_df)\n",
    "sample_poly   = poly.transform(sample_scaled)"
   ]
  },
  {
   "cell_type": "code",
   "execution_count": 183,
   "id": "f56e2354",
   "metadata": {},
   "outputs": [
    {
     "data": {
      "text/html": [
       "<div>\n",
       "<style scoped>\n",
       "    .dataframe tbody tr th:only-of-type {\n",
       "        vertical-align: middle;\n",
       "    }\n",
       "\n",
       "    .dataframe tbody tr th {\n",
       "        vertical-align: top;\n",
       "    }\n",
       "\n",
       "    .dataframe thead th {\n",
       "        text-align: right;\n",
       "    }\n",
       "</style>\n",
       "<table border=\"1\" class=\"dataframe\">\n",
       "  <thead>\n",
       "    <tr style=\"text-align: right;\">\n",
       "      <th></th>\n",
       "      <th>CRIM</th>\n",
       "      <th>ZN</th>\n",
       "      <th>INDUS</th>\n",
       "      <th>CHAS</th>\n",
       "      <th>NOX</th>\n",
       "      <th>RM</th>\n",
       "      <th>AGE</th>\n",
       "      <th>DIS</th>\n",
       "      <th>RAD</th>\n",
       "      <th>TAX</th>\n",
       "      <th>PTRATIO</th>\n",
       "      <th>B</th>\n",
       "      <th>LSTAT</th>\n",
       "    </tr>\n",
       "  </thead>\n",
       "  <tbody>\n",
       "    <tr>\n",
       "      <th>0</th>\n",
       "      <td>0.1</td>\n",
       "      <td>12.5</td>\n",
       "      <td>7.5</td>\n",
       "      <td>0.0</td>\n",
       "      <td>0.5</td>\n",
       "      <td>6.3</td>\n",
       "      <td>45.0</td>\n",
       "      <td>5.0</td>\n",
       "      <td>4</td>\n",
       "      <td>300</td>\n",
       "      <td>16.0</td>\n",
       "      <td>390.0</td>\n",
       "      <td>12.0</td>\n",
       "    </tr>\n",
       "  </tbody>\n",
       "</table>\n",
       "</div>"
      ],
      "text/plain": [
       "   CRIM    ZN  INDUS  CHAS  NOX   RM   AGE  DIS  RAD  TAX  PTRATIO      B  \\\n",
       "0   0.1  12.5    7.5   0.0  0.5  6.3  45.0  5.0    4  300     16.0  390.0   \n",
       "\n",
       "   LSTAT  \n",
       "0   12.0  "
      ]
     },
     "execution_count": 183,
     "metadata": {},
     "output_type": "execute_result"
    }
   ],
   "source": [
    "sample_df"
   ]
  },
  {
   "cell_type": "code",
   "execution_count": 186,
   "id": "70d758f0",
   "metadata": {},
   "outputs": [
    {
     "data": {
      "text/plain": [
       "array([[-0.4038534 ,  0.07543341, -0.56196622, -0.28065481, -0.50737081,\n",
       "         0.04122102, -0.88448673,  0.61061834, -0.66412431, -0.65177132,\n",
       "        -1.2084438 ,  0.36689867, -0.13253633,  0.16309757, -0.03046404,\n",
       "         0.22695197,  0.1133434 ,  0.20490343, -0.01664725,  0.35720298,\n",
       "        -0.24660029,  0.26820886,  0.26322007,  0.48803414, -0.14817328,\n",
       "         0.05352525,  0.0056902 , -0.04239103, -0.02117075, -0.03827271,\n",
       "         0.00310944, -0.06671985,  0.04606102, -0.05009716, -0.04916533,\n",
       "        -0.09115704,  0.02767642, -0.00999767,  0.31580603,  0.15771852,\n",
       "         0.28512525, -0.02316482,  0.49705166, -0.34314688,  0.37321543,\n",
       "         0.36627346,  0.67910459, -0.20618466,  0.07448094,  0.07876712,\n",
       "         0.14239606, -0.01156888,  0.24823546, -0.17137297,  0.18638968,\n",
       "         0.18292276,  0.33915557, -0.10297188,  0.03719696,  0.25742513,\n",
       "        -0.02091434,  0.44876274, -0.30980992,  0.33695729,  0.33068974,\n",
       "         0.61312911, -0.18615367,  0.06724507,  0.00169917, -0.03645945,\n",
       "         0.02517031, -0.02737588, -0.02686668, -0.04981329,  0.01512394,\n",
       "        -0.00546328,  0.78231677, -0.54008381,  0.58740914,  0.57648308,\n",
       "         1.0688525 , -0.324517  ,  0.11722663,  0.37285475, -0.40552648,\n",
       "        -0.39798352, -0.73789794,  0.22403505, -0.08092911,  0.4410611 ,\n",
       "         0.43285718,  0.80255691, -0.24366632,  0.0880206 ,  0.42480585,\n",
       "         0.78762901, -0.23913403,  0.08638338,  1.46033642, -0.44337642,\n",
       "         0.16016271,  0.13461463, -0.0486274 ,  0.01756588]])"
      ]
     },
     "execution_count": 186,
     "metadata": {},
     "output_type": "execute_result"
    }
   ],
   "source": [
    "sample_poly"
   ]
  },
  {
   "cell_type": "code",
   "execution_count": 187,
   "id": "df9d27df",
   "metadata": {},
   "outputs": [
    {
     "name": "stdout",
     "output_type": "stream",
     "text": [
      "Linear Regression: 25.359265713282166\n",
      "Ridge Regression: 23.227753809248956\n",
      "Lasso Regression: 23.579415852975444\n",
      "Elastic Net Regression: 23.878896739446816\n"
     ]
    }
   ],
   "source": [
    "print(\"Linear Regression:\", lin_reg.predict(sample_scaled)[0])\n",
    "print(\"Ridge Regression:\", ridge_reg.predict(sample_poly)[0])\n",
    "print(\"Lasso Regression:\", lasso_reg.predict(sample_poly)[0])\n",
    "print(\"Elastic Net Regression:\", elastic_net.predict(sample_poly)[0])"
   ]
  },
  {
   "cell_type": "code",
   "execution_count": null,
   "id": "fa29d6e4",
   "metadata": {},
   "outputs": [],
   "source": []
  }
 ],
 "metadata": {
  "kernelspec": {
   "display_name": "env",
   "language": "python",
   "name": "python3"
  },
  "language_info": {
   "codemirror_mode": {
    "name": "ipython",
    "version": 3
   },
   "file_extension": ".py",
   "mimetype": "text/x-python",
   "name": "python",
   "nbconvert_exporter": "python",
   "pygments_lexer": "ipython3",
   "version": "3.10.10"
  }
 },
 "nbformat": 4,
 "nbformat_minor": 5
}
